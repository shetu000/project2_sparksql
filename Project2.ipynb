{
 "cells": [
  {
   "cell_type": "markdown",
   "id": "0534223d",
   "metadata": {},
   "source": [
    "# Olympics Data Analysis With Pyspark Dataframe"
   ]
  },
  {
   "cell_type": "markdown",
   "id": "c8b14ab5",
   "metadata": {},
   "source": [
    "# ---------------------------------------------------------------------------------------------"
   ]
  },
  {
   "cell_type": "markdown",
   "id": "18acdb4e",
   "metadata": {},
   "source": [
    "# Create a spark container by calling SparkSession. This step is necessary before doing anything"
   ]
  },
  {
   "cell_type": "code",
   "execution_count": 3,
   "id": "a43582a7",
   "metadata": {},
   "outputs": [],
   "source": [
    "from pyspark.sql import SparkSession\n",
    "from pyspark.sql.types import StructType,StringType, IntegerType "
   ]
  },
  {
   "cell_type": "markdown",
   "id": "ee4bf011",
   "metadata": {},
   "source": [
    "# create session in order to be capable of accessing all Spark API"
   ]
  },
  {
   "cell_type": "code",
   "execution_count": 4,
   "id": "d8fe1f28",
   "metadata": {},
   "outputs": [],
   "source": [
    "spark=SparkSession.builder.appName('olympics analysis').getOrCreate()"
   ]
  },
  {
   "cell_type": "markdown",
   "id": "6ae5f731",
   "metadata": {},
   "source": [
    "# define data schema for athlete_events.csv file and noc_regions.csv file"
   ]
  },
  {
   "cell_type": "code",
   "execution_count": 5,
   "id": "f8524de9",
   "metadata": {},
   "outputs": [],
   "source": [
    "schema = StructType() \\\n",
    "    .add(\"ID\",IntegerType(),True) \\\n",
    "    .add(\"Name\",StringType(),True) \\\n",
    "    .add(\"Sex\",StringType(),True) \\\n",
    "    .add(\"Age\",IntegerType(),True) \\\n",
    "    .add(\"Height\",IntegerType(),True) \\\n",
    "    .add(\"Weight\",IntegerType(),True)\\\n",
    "    .add(\"Team\",StringType(),True) \\\n",
    "    .add(\"NOC\",StringType(),True) \\\n",
    "    .add(\"Games\",StringType(),True) \\\n",
    "    .add(\"Year\",IntegerType(),True) \\\n",
    "    .add(\"Season\",StringType(),True) \\\n",
    "    .add(\"City\",StringType(),True) \\\n",
    "    .add(\"Sport\",StringType(),True) \\\n",
    "    .add(\"Event\",StringType(),True) \\\n",
    "    .add(\"Medal\",StringType(),True)\n",
    "\n",
    "noc_schema = StructType() \\\n",
    "    .add(\"NOC\",StringType(),True) \\\n",
    "    .add(\"region\",StringType(),True) \\\n",
    "    .add(\"notes\",StringType(),True) "
   ]
  },
  {
   "cell_type": "markdown",
   "id": "599bc9e4",
   "metadata": {},
   "source": [
    "# read athlete_events.csv and noc_regions.csv files with defined schema into Spark DataFrame"
   ]
  },
  {
   "cell_type": "code",
   "execution_count": 6,
   "id": "dee37643",
   "metadata": {},
   "outputs": [],
   "source": [
    "df= spark.read.format(\"csv\") \\\n",
    "      .option(\"header\", True) \\\n",
    "      .schema(schema) \\\n",
    "      .load(\"C:/ajaysir/P2/P2/athlete_events.csv\")\n",
    "\n",
    "df_noc= spark.read.format(\"csv\") \\\n",
    "      .option(\"header\", True) \\\n",
    "      .schema(noc_schema) \\\n",
    "      .load(\"C:/ajaysir/P2/P2/noc_regions.csv\")"
   ]
  },
  {
   "cell_type": "markdown",
   "id": "d755d36e",
   "metadata": {},
   "source": [
    "# show dataFrame's schema"
   ]
  },
  {
   "cell_type": "code",
   "execution_count": 7,
   "id": "e59ec507",
   "metadata": {},
   "outputs": [
    {
     "name": "stdout",
     "output_type": "stream",
     "text": [
      "root\n",
      " |-- ID: integer (nullable = true)\n",
      " |-- Name: string (nullable = true)\n",
      " |-- Sex: string (nullable = true)\n",
      " |-- Age: integer (nullable = true)\n",
      " |-- Height: integer (nullable = true)\n",
      " |-- Weight: integer (nullable = true)\n",
      " |-- Team: string (nullable = true)\n",
      " |-- NOC: string (nullable = true)\n",
      " |-- Games: string (nullable = true)\n",
      " |-- Year: integer (nullable = true)\n",
      " |-- Season: string (nullable = true)\n",
      " |-- City: string (nullable = true)\n",
      " |-- Sport: string (nullable = true)\n",
      " |-- Event: string (nullable = true)\n",
      " |-- Medal: string (nullable = true)\n",
      "\n",
      "root\n",
      " |-- NOC: string (nullable = true)\n",
      " |-- region: string (nullable = true)\n",
      " |-- notes: string (nullable = true)\n",
      "\n"
     ]
    }
   ],
   "source": [
    "df.printSchema()\n",
    "df_noc.printSchema()"
   ]
  },
  {
   "cell_type": "markdown",
   "id": "ec84ff8a",
   "metadata": {},
   "source": [
    "# count number of rows in dataFrame 'df'"
   ]
  },
  {
   "cell_type": "code",
   "execution_count": 8,
   "id": "de4cf147",
   "metadata": {},
   "outputs": [
    {
     "name": "stdout",
     "output_type": "stream",
     "text": [
      "number of rows:  271116\n"
     ]
    }
   ],
   "source": [
    "num_rows = df.count()\n",
    "print(\"number of rows: \", num_rows)"
   ]
  },
  {
   "cell_type": "markdown",
   "id": "6c56138b",
   "metadata": {},
   "source": [
    "# show 10 rows of DataFrame 'df'"
   ]
  },
  {
   "cell_type": "code",
   "execution_count": 9,
   "id": "915ee2d8",
   "metadata": {},
   "outputs": [
    {
     "name": "stdout",
     "output_type": "stream",
     "text": [
      "+---+--------------------+---+---+------+------+--------------+---+-----------+----+------+-----------+-------------+--------------------+-----+\n",
      "| ID|                Name|Sex|Age|Height|Weight|          Team|NOC|      Games|Year|Season|       City|        Sport|               Event|Medal|\n",
      "+---+--------------------+---+---+------+------+--------------+---+-----------+----+------+-----------+-------------+--------------------+-----+\n",
      "|  1|           A Dijiang|  M| 24|   180|    80|         China|CHN|1992 Summer|1992|Summer|  Barcelona|   Basketball|Basketball Men's ...|   NA|\n",
      "|  2|            A Lamusi|  M| 23|   170|    60|         China|CHN|2012 Summer|2012|Summer|     London|         Judo|Judo Men's Extra-...|   NA|\n",
      "|  3| Gunnar Nielsen Aaby|  M| 24|  null|  null|       Denmark|DEN|1920 Summer|1920|Summer|  Antwerpen|     Football|Football Men's Fo...|   NA|\n",
      "|  4|Edgar Lindenau Aabye|  M| 34|  null|  null|Denmark/Sweden|DEN|1900 Summer|1900|Summer|      Paris|   Tug-Of-War|Tug-Of-War Men's ...| Gold|\n",
      "|  5|Christine Jacoba ...|  F| 21|   185|    82|   Netherlands|NED|1988 Winter|1988|Winter|    Calgary|Speed Skating|Speed Skating Wom...|   NA|\n",
      "|  5|Christine Jacoba ...|  F| 21|   185|    82|   Netherlands|NED|1988 Winter|1988|Winter|    Calgary|Speed Skating|Speed Skating Wom...|   NA|\n",
      "|  5|Christine Jacoba ...|  F| 25|   185|    82|   Netherlands|NED|1992 Winter|1992|Winter|Albertville|Speed Skating|Speed Skating Wom...|   NA|\n",
      "|  5|Christine Jacoba ...|  F| 25|   185|    82|   Netherlands|NED|1992 Winter|1992|Winter|Albertville|Speed Skating|Speed Skating Wom...|   NA|\n",
      "|  5|Christine Jacoba ...|  F| 27|   185|    82|   Netherlands|NED|1994 Winter|1994|Winter|Lillehammer|Speed Skating|Speed Skating Wom...|   NA|\n",
      "|  5|Christine Jacoba ...|  F| 27|   185|    82|   Netherlands|NED|1994 Winter|1994|Winter|Lillehammer|Speed Skating|Speed Skating Wom...|   NA|\n",
      "+---+--------------------+---+---+------+------+--------------+---+-----------+----+------+-----------+-------------+--------------------+-----+\n",
      "only showing top 10 rows\n",
      "\n"
     ]
    }
   ],
   "source": [
    "df.show(10)"
   ]
  },
  {
   "cell_type": "markdown",
   "id": "6109ce3a",
   "metadata": {},
   "source": [
    "# show statistic of the data"
   ]
  },
  {
   "cell_type": "code",
   "execution_count": 14,
   "id": "9f6b9084",
   "metadata": {},
   "outputs": [
    {
     "name": "stdout",
     "output_type": "stream",
     "text": [
      "+-------+------------------+\n",
      "|summary|               age|\n",
      "+-------+------------------+\n",
      "|  count|            261642|\n",
      "|   mean|25.556898357297374|\n",
      "| stddev| 6.393560847035813|\n",
      "|    min|                10|\n",
      "|    max|                97|\n",
      "+-------+------------------+\n",
      "\n"
     ]
    }
   ],
   "source": [
    "df.describe('age').show()"
   ]
  },
  {
   "cell_type": "markdown",
   "id": "0fa3230a",
   "metadata": {},
   "source": [
    "# creating a temporary view of 'df' and 'df_noc' as 'athlete' and 'noc'"
   ]
  },
  {
   "cell_type": "code",
   "execution_count": 15,
   "id": "afbab56f",
   "metadata": {},
   "outputs": [],
   "source": [
    "df.createOrReplaceTempView(\"athlete\")\n",
    "df_noc.createOrReplaceTempView(\"noc\")"
   ]
  },
  {
   "cell_type": "markdown",
   "id": "f26cbb11",
   "metadata": {},
   "source": [
    "# \n"
   ]
  },
  {
   "cell_type": "markdown",
   "id": "08fa85fd",
   "metadata": {},
   "source": [
    "# Querying with SQL"
   ]
  },
  {
   "cell_type": "markdown",
   "id": "b016a511",
   "metadata": {},
   "source": [
    "# ---------------------------------------------------------------"
   ]
  },
  {
   "cell_type": "markdown",
   "id": "66b73a9e",
   "metadata": {},
   "source": [
    "# 1) Write a Query to Count Female participants in year 2004 from India."
   ]
  },
  {
   "cell_type": "code",
   "execution_count": 16,
   "id": "233cc559",
   "metadata": {},
   "outputs": [
    {
     "name": "stdout",
     "output_type": "stream",
     "text": [
      "+--------+\n",
      "|count(1)|\n",
      "+--------+\n",
      "|30      |\n",
      "+--------+\n",
      "\n"
     ]
    }
   ],
   "source": [
    "query=\"SELECT COUNT(*)  FROM athlete \\\n",
    "       WHERE Year='2004' and \\\n",
    "       Sex='F' and NOC in ('IND')\"\n",
    "spark.sql(query).show(10,truncate=False)"
   ]
  },
  {
   "cell_type": "markdown",
   "id": "3c61de87",
   "metadata": {},
   "source": [
    "# 2) Write a Query to fetch top 10 youngest athletes to ever compete in the Games."
   ]
  },
  {
   "cell_type": "code",
   "execution_count": 19,
   "id": "a78d03e6",
   "metadata": {},
   "outputs": [
    {
     "name": "stdout",
     "output_type": "stream",
     "text": [
      "+-----------------------------------------------+---+----------------------+--------------+\n",
      "|name                                           |age|city                  |Sport         |\n",
      "+-----------------------------------------------+---+----------------------+--------------+\n",
      "|Dimitrios Loundras                             |10 |Athina                |Gymnastics    |\n",
      "|Megan Olwen Devenish Taylor (-Mandeville-Ellis)|11 |Lake Placid           |Figure Skating|\n",
      "|Marcelle Matthews                              |11 |Squaw Valley          |Figure Skating|\n",
      "|Sonja Henie (-Topping- -Gardiner- -Onstad)     |11 |Chamonix              |Figure Skating|\n",
      "|Beatrice Hutiu                                 |11 |Grenoble              |Figure Skating|\n",
      "|Etsuko Inada                                   |11 |Garmisch-Partenkirchen|Figure Skating|\n",
      "|Carlos Bienvenido Front Barrera                |11 |Barcelona             |Rowing        |\n",
      "|Liana Vicens                                   |11 |Mexico City           |Swimming      |\n",
      "|Liu Luyang                                     |11 |Calgary               |Figure Skating|\n",
      "|Luigina Giavotti                               |11 |Amsterdam             |Gymnastics    |\n",
      "+-----------------------------------------------+---+----------------------+--------------+\n",
      "only showing top 10 rows\n",
      "\n"
     ]
    }
   ],
   "source": [
    "query=\"SELECT name, age, city,Sport \\\n",
    "       FROM athlete \\\n",
    "       where Age is not null \\\n",
    "       Group By Name, age,City,sport ORDER BY age\"\n",
    "spark.sql(query).show(10,truncate=False)"
   ]
  },
  {
   "cell_type": "markdown",
   "id": "1a3290dd",
   "metadata": {},
   "source": [
    "# 3) Write a Query to display the year in which women got started to enter into olympics."
   ]
  },
  {
   "cell_type": "code",
   "execution_count": 20,
   "id": "acc939c1",
   "metadata": {},
   "outputs": [
    {
     "name": "stdout",
     "output_type": "stream",
     "text": [
      "+-----------------------------+----+\n",
      "|Name                         |Year|\n",
      "+-----------------------------+----+\n",
      "|Margaret Ives Abbott (-Dunne)|1900|\n",
      "+-----------------------------+----+\n",
      "only showing top 1 row\n",
      "\n"
     ]
    }
   ],
   "source": [
    "query=\"SELECT Name,Year FROM athlete \\\n",
    "       WHERE Sex='F' \\\n",
    "       ORDER BY Year Asc\"\n",
    "spark.sql(query).show(1,truncate=False)"
   ]
  },
  {
   "cell_type": "markdown",
   "id": "9547617b",
   "metadata": {},
   "source": [
    "# 4) Write a Query to Count the number of male and female participants in each sport from 1896 to 2006."
   ]
  },
  {
   "cell_type": "code",
   "execution_count": 21,
   "id": "4148b2a1",
   "metadata": {},
   "outputs": [
    {
     "name": "stdout",
     "output_type": "stream",
     "text": [
      "+-------------+------------+----------+\n",
      "|Sport        |Female_Count|Male_Count|\n",
      "+-------------+------------+----------+\n",
      "|Gymnastics   |9129        |17578     |\n",
      "|Tennis       |1178        |1684      |\n",
      "|Boxing       |72          |5975      |\n",
      "|Ice Hockey   |754         |4762      |\n",
      "|Golf         |70          |177       |\n",
      "|Rowing       |2193        |8402      |\n",
      "|Judo         |1093        |2708      |\n",
      "|Sailing      |926         |5660      |\n",
      "|Swimming     |9850        |13345     |\n",
      "|Alpine Skiing|3398        |5431      |\n",
      "+-------------+------------+----------+\n",
      "only showing top 10 rows\n",
      "\n"
     ]
    }
   ],
   "source": [
    "query=\"SELECT s as Sport,Female_Count, Male_Count from \\\n",
    "       (SELECT Sport as s, Count(Name)as Female_Count FROM athlete WHERE Sex='F' GROUP BY Sport) \\\n",
    "       join \\\n",
    "       (SELECT Sport as p, Count(Name)as Male_Count FROM athlete WHERE Sex='M' GROUP BY Sport) \\\n",
    "       on s=p\"\n",
    "spark.sql(query).show(10,truncate=False)"
   ]
  },
  {
   "cell_type": "markdown",
   "id": "683b8dd8",
   "metadata": {},
   "source": [
    "# 5) Write a Query to Count the no of Female Participants from each country in every year."
   ]
  },
  {
   "cell_type": "code",
   "execution_count": 23,
   "id": "f262689c",
   "metadata": {},
   "outputs": [
    {
     "name": "stdout",
     "output_type": "stream",
     "text": [
      "+----+-------+------------------+\n",
      "|Year|Country|Total_Female_Count|\n",
      "+----+-------+------------------+\n",
      "|1900|USA    |9                 |\n",
      "|1900|GBR    |2                 |\n",
      "|1900|FRA    |16                |\n",
      "|1900|SUI    |3                 |\n",
      "|1900|ITA    |1                 |\n",
      "|1900|BOH    |2                 |\n",
      "|1904|USA    |16                |\n",
      "|1906|GRE    |9                 |\n",
      "|1906|FRA    |2                 |\n",
      "|1908|GBR    |42                |\n",
      "+----+-------+------------------+\n",
      "only showing top 10 rows\n",
      "\n"
     ]
    }
   ],
   "source": [
    "query=\"SELECT Year,NOC as Country, Count(*) as Total_Female_Count \\\n",
    "       FROM athlete WHERE Sex='F' \\\n",
    "       GROUP BY NOC,Year order by Year\"\n",
    "spark.sql(query).show(10,truncate=False)"
   ]
  },
  {
   "cell_type": "markdown",
   "id": "d63a5b1d",
   "metadata": {},
   "source": [
    "# 6) Write a Query to fetch how many Indians participated in every year."
   ]
  },
  {
   "cell_type": "code",
   "execution_count": 24,
   "id": "2d95a40b",
   "metadata": {},
   "outputs": [
    {
     "name": "stdout",
     "output_type": "stream",
     "text": [
      "+----+------------------+\n",
      "|Year|Total_Participants|\n",
      "+----+------------------+\n",
      "|1900|5                 |\n",
      "|1920|7                 |\n",
      "|1924|31                |\n",
      "|1928|24                |\n",
      "|1932|26                |\n",
      "|1936|30                |\n",
      "|1948|89                |\n",
      "|1952|94                |\n",
      "|1956|79                |\n",
      "|1960|49                |\n",
      "+----+------------------+\n",
      "only showing top 10 rows\n",
      "\n"
     ]
    }
   ],
   "source": [
    "query=\"SELECT Year,Count(*) as Total_Participants \\\n",
    "       FROM athlete \\\n",
    "       WHERE NOC='IND' \\\n",
    "       GROUP BY Year \\\n",
    "       ORDER BY Year Asc\"\n",
    "spark.sql(query).show(10,truncate=False)"
   ]
  },
  {
   "cell_type": "markdown",
   "id": "e83e8e1f",
   "metadata": {},
   "source": [
    "# 7) Write a Query to display distinct Sports in olympics."
   ]
  },
  {
   "cell_type": "code",
   "execution_count": 71,
   "id": "2c361ad9",
   "metadata": {},
   "outputs": [
    {
     "name": "stdout",
     "output_type": "stream",
     "text": [
      "+----------+\n",
      "|sport     |\n",
      "+----------+\n",
      "|Gymnastics|\n",
      "|Tennis    |\n",
      "|Boxing    |\n",
      "|Ice Hockey|\n",
      "|Golf      |\n",
      "|Rowing    |\n",
      "|Judo      |\n",
      "|Softball  |\n",
      "|Sailing   |\n",
      "|Swimming  |\n",
      "+----------+\n",
      "only showing top 10 rows\n",
      "\n"
     ]
    }
   ],
   "source": [
    "query=\"select distinct sport \\\n",
    "       from athlete\"\n",
    "spark.sql(query).show(10,truncate=False)"
   ]
  },
  {
   "cell_type": "markdown",
   "id": "a66b4346",
   "metadata": {},
   "source": [
    "# 8) Write a Query to display no of females that have participated in olympics."
   ]
  },
  {
   "cell_type": "code",
   "execution_count": 26,
   "id": "9fbcfc2b",
   "metadata": {},
   "outputs": [
    {
     "name": "stdout",
     "output_type": "stream",
     "text": [
      "+----+-------+\n",
      "|year|Females|\n",
      "+----+-------+\n",
      "|1900|33     |\n",
      "|1904|16     |\n",
      "|1906|11     |\n",
      "|1908|47     |\n",
      "|1912|87     |\n",
      "|1920|134    |\n",
      "|1924|261    |\n",
      "|1928|437    |\n",
      "|1932|369    |\n",
      "|1936|549    |\n",
      "+----+-------+\n",
      "only showing top 10 rows\n",
      "\n"
     ]
    }
   ],
   "source": [
    "query=\"select year,count(sex) as Females \\\n",
    "       from athlete \\\n",
    "       where sex='F' \\\n",
    "       group by sex,year \\\n",
    "       order by year\"\n",
    "spark.sql(query).show(10,truncate=False)"
   ]
  },
  {
   "cell_type": "markdown",
   "id": "2f1795f5",
   "metadata": {},
   "source": [
    "# 9) Write a Query to display how many gold medals India won in each year."
   ]
  },
  {
   "cell_type": "code",
   "execution_count": 27,
   "id": "450f4f4f",
   "metadata": {},
   "outputs": [
    {
     "name": "stdout",
     "output_type": "stream",
     "text": [
      "+----+----+\n",
      "|year|Gold|\n",
      "+----+----+\n",
      "|1924|7   |\n",
      "|1928|14  |\n",
      "|1932|15  |\n",
      "|1936|19  |\n",
      "|1948|20  |\n",
      "|1952|14  |\n",
      "|1956|17  |\n",
      "|1964|15  |\n",
      "|1980|16  |\n",
      "|2008|1   |\n",
      "+----+----+\n",
      "\n"
     ]
    }
   ],
   "source": [
    "query=\"select year,count(medal) as Gold \\\n",
    "       from athlete \\\n",
    "       where team='India' and medal='Gold' \\\n",
    "       group by year \\\n",
    "       order by year\"\n",
    "spark.sql(query).show(10,truncate=False)"
   ]
  },
  {
   "cell_type": "markdown",
   "id": "07aae3fc",
   "metadata": {},
   "source": [
    "# 10) Write a Query to count the number of participants in each sport in year 2016."
   ]
  },
  {
   "cell_type": "code",
   "execution_count": 34,
   "id": "3feb2f7a",
   "metadata": {},
   "outputs": [
    {
     "name": "stdout",
     "output_type": "stream",
     "text": [
      "+-------------+---+---+\n",
      "|sport        |F  |M  |\n",
      "+-------------+---+---+\n",
      "|Gymnastics   |383|478|\n",
      "|Tennis       |143|143|\n",
      "|Boxing       |36 |247|\n",
      "|Golf         |60 |60 |\n",
      "|Rowing       |219|331|\n",
      "|Judo         |152|237|\n",
      "|Sailing      |163|217|\n",
      "|Swimming     |761|807|\n",
      "|Basketball   |140|141|\n",
      "|Equestrianism|131|224|\n",
      "+-------------+---+---+\n",
      "only showing top 10 rows\n",
      "\n"
     ]
    }
   ],
   "source": [
    "query=query=\"select s as sport,F,M \\\n",
    "             from (select sport as s,year,count(sex) as F \\\n",
    "                   from athlete \\\n",
    "                   where sex='F' and year='2016' \\\n",
    "                   group by sport,year) p \\\n",
    "               full join \\\n",
    "                 (select sport as sp,year,count(sex) as M \\\n",
    "                  from athlete where sex='M' and year='2016' \\\n",
    "                  group by sport,year) \\\n",
    "               on s=sp\"\n",
    "spark.sql(query).show(10,truncate=False) "
   ]
  },
  {
   "cell_type": "markdown",
   "id": "ed568622",
   "metadata": {},
   "source": [
    "# 11) Write a Query to dispaly details of Indian players and medals they received."
   ]
  },
  {
   "cell_type": "code",
   "execution_count": 70,
   "id": "5f8151c0",
   "metadata": {},
   "outputs": [
    {
     "name": "stdout",
     "output_type": "stream",
     "text": [
      "+----+-----------------------------+---+------------+----+------+------+------+-------+\n",
      "|Rank|Name                         |Sex|Total_Medals|Gold|Silver|Bronze|Sport |Country|\n",
      "+----+-----------------------------+---+------------+----+------+------+------+-------+\n",
      "|1   |Udham Singh Kular            |M  |4           |3   |1     |0     |Hockey|India  |\n",
      "|2   |Leslie Walter Claudius       |M  |4           |3   |1     |0     |Hockey|India  |\n",
      "|3   |Balbir Singh Dosanjh- Sr.    |M  |3           |3   |0     |0     |Hockey|India  |\n",
      "|4   |Dhyan Chand Bais             |M  |3           |3   |0     |0     |Hockey|India  |\n",
      "|5   |Ranganathan Francis          |M  |3           |3   |0     |0     |Hockey|India  |\n",
      "|6   |Richard James Allen          |M  |3           |3   |0     |0     |Hockey|India  |\n",
      "|7   |Randhir Singh Gentle         |M  |3           |3   |0     |0     |Hockey|India  |\n",
      "|8   |Shankar Pillay Laxman        |M  |3           |2   |1     |0     |Hockey|India  |\n",
      "|9   |\"Victor John \"\"V. J.\"\" Peter\"|M  |3           |1   |1     |1     |Hockey|India  |\n",
      "|10  |Prithipal Singh              |M  |3           |1   |1     |1     |Hockey|India  |\n",
      "+----+-----------------------------+---+------------+----+------+------+------+-------+\n",
      "only showing top 10 rows\n",
      "\n"
     ]
    }
   ],
   "source": [
    "query=\"select ROW_NUMBER() OVER(order by Total desc,Gold desc,Silver desc,Bronze desc) AS Rank,Name,\\\n",
    "              Sex,Total as Total_Medals,IFNULL(Gold,0) as Gold,IFNULL(Silver,0) as Silver,IFNULL(Bronze,0) as Bronze,Sport, \\\n",
    "              Team as Country \\\n",
    "       from (((select Sport,Sex,Name,Team,ID as fid,count(Medal) as Total from athlete \\\n",
    "               where Medal='Gold'or Medal='Silver' or Medal='Bronze' \\\n",
    "               group by ID,Name,Sport,Sex,Team) a0 \\\n",
    "            left join \\\n",
    "               (select ID,count(Medal) as Gold \\\n",
    "               from athlete \\\n",
    "               where Medal='Gold' \\\n",
    "               group by ID) a1 \\\n",
    "            on fid=a1.ID) p \\\n",
    "            left join \\\n",
    "                (select ID,count(Medal) as Silver \\\n",
    "                from athlete \\\n",
    "                where Medal='Silver' \\\n",
    "                group by ID) a2 \\\n",
    "            on fid=a2.ID) q \\\n",
    "            left join \\\n",
    "                 (select ID,count(Medal) as Bronze \\\n",
    "                 from athlete \\\n",
    "                 where Medal='Bronze' \\\n",
    "                 group by ID) a3 \\\n",
    "            on fid=a3.ID \\\n",
    "        where Team='India' \\\n",
    "        order by Rank\"\n",
    "spark.sql(query).show(10,truncate=False)"
   ]
  },
  {
   "cell_type": "markdown",
   "id": "d87d1428",
   "metadata": {},
   "source": [
    "# 12) write a Query to display distinct player their country from India."
   ]
  },
  {
   "cell_type": "code",
   "execution_count": 67,
   "id": "54a1708f",
   "metadata": {},
   "outputs": [
    {
     "name": "stdout",
     "output_type": "stream",
     "text": [
      "+-----------------------+\n",
      "|Name                   |\n",
      "+-----------------------+\n",
      "|Dattu Baban Bhokanal   |\n",
      "|Keshav Chandra Dutt    |\n",
      "|Monika Malik           |\n",
      "|Dilip Mitra            |\n",
      "|Rekha Mundphan (-Bhide)|\n",
      "|Ajmer Singh            |\n",
      "|Shaukat Ali            |\n",
      "|Bimal Chandra          |\n",
      "|Sakshi Malik           |\n",
      "|Darshan Singh Kular    |\n",
      "+-----------------------+\n",
      "only showing top 10 rows\n",
      "\n"
     ]
    }
   ],
   "source": [
    "query=\"\\\n",
    "select distinct Name \\\n",
    "from athlete \\\n",
    "where Team='India'\"\n",
    "spark.sql(query).show(10,truncate=False)"
   ]
  },
  {
   "cell_type": "markdown",
   "id": "c36b18c1",
   "metadata": {},
   "source": [
    "# 13) Write a Query to display max weight of all time in olympics."
   ]
  },
  {
   "cell_type": "code",
   "execution_count": 66,
   "id": "db0e2b8a",
   "metadata": {},
   "outputs": [
    {
     "name": "stdout",
     "output_type": "stream",
     "text": [
      "+---------------------------------+------+-------------+-------------+\n",
      "|Name                             |weight|Country      |Sport        |\n",
      "+---------------------------------+------+-------------+-------------+\n",
      "|Ricardo Blas- Jr.                |214   |Guam         |Judo         |\n",
      "|Aytami Ruano Vega                |198   |Spain        |Judo         |\n",
      "|Marek Galiski                    |190   |Poland       |Wrestling    |\n",
      "|\"Christopher J. \"\"Chris\"\" Taylor\"|182   |United States|Wrestling    |\n",
      "|Valentyn Rusliakov               |180   |Ukraine      |Judo         |\n",
      "|Leonel Wilfredo Ruz Carmona      |178   |Venezuela    |Judo         |\n",
      "|Dmitry Yuryevich Nosov           |175   |Russia       |Judo         |\n",
      "|Andrey Ivanovich Chemerkin       |170   |Russia       |Weightlifting|\n",
      "|Janusz Wojnarowicz               |170   |Poland       |Judo         |\n",
      "|Illie Daniel Natea               |170   |Romania      |Judo         |\n",
      "+---------------------------------+------+-------------+-------------+\n",
      "only showing top 10 rows\n",
      "\n"
     ]
    }
   ],
   "source": [
    "query=\"\\\n",
    "select Name,max(weight) as weight,Team as Country,Sport \\\n",
    "from athlete \\\n",
    "group by Name,Team,Sport \\\n",
    "order by weight desc\"\n",
    "spark.sql(query).show(10,truncate=False)"
   ]
  },
  {
   "cell_type": "markdown",
   "id": "c7ed8236",
   "metadata": {},
   "source": [
    "# 14) Write a Query to display which country received most medals in 2004."
   ]
  },
  {
   "cell_type": "code",
   "execution_count": 65,
   "id": "ddd93c00",
   "metadata": {},
   "outputs": [
    {
     "name": "stdout",
     "output_type": "stream",
     "text": [
      "+--------------+------------+\n",
      "|Country       |Total_Medals|\n",
      "+--------------+------------+\n",
      "|Russia        |189         |\n",
      "|Paraguay      |17          |\n",
      "|Chinese Taipei|9           |\n",
      "|Sweden        |12          |\n",
      "|Spain-2       |2           |\n",
      "|Eritrea       |1           |\n",
      "|China-1       |8           |\n",
      "|Turkey        |11          |\n",
      "|Switzerland-2 |2           |\n",
      "|Germany       |147         |\n",
      "+--------------+------------+\n",
      "only showing top 10 rows\n",
      "\n"
     ]
    }
   ],
   "source": [
    "query=\"\\\n",
    "select Team as Country,count(Medal) as Total_Medals \\\n",
    "from athlete \\\n",
    "where Medal in ('Gold','Silver','Bronze') and Year=2004 \\\n",
    "group by Team\"\n",
    "spark.sql(query).show(10,truncate=False)"
   ]
  },
  {
   "cell_type": "markdown",
   "id": "faa10fa2",
   "metadata": {},
   "source": [
    "# 15) Write a Query to display in which sport India won most medals from 1896-2006."
   ]
  },
  {
   "cell_type": "code",
   "execution_count": 64,
   "id": "fc834205",
   "metadata": {},
   "outputs": [
    {
     "name": "stdout",
     "output_type": "stream",
     "text": [
      "+-------------+------------+\n",
      "|sport        |Total_Medals|\n",
      "+-------------+------------+\n",
      "|Hockey       |173         |\n",
      "|Alpinism     |7           |\n",
      "|Wrestling    |5           |\n",
      "|Shooting     |4           |\n",
      "|Athletics    |2           |\n",
      "|Badminton    |2           |\n",
      "|Boxing       |2           |\n",
      "|Weightlifting|1           |\n",
      "|Tennis       |1           |\n",
      "+-------------+------------+\n",
      "\n"
     ]
    }
   ],
   "source": [
    "query=\"\\\n",
    "select sport,count(medal) as Total_Medals \\\n",
    "from athlete \\\n",
    "where Team='India' and Medal in ('Gold','Silver','Bronze') \\\n",
    "group by sport \\\n",
    "order by Total_Medals desc\"\n",
    "spark.sql(query).show(10,truncate=False)"
   ]
  },
  {
   "cell_type": "markdown",
   "id": "63075230",
   "metadata": {},
   "source": [
    "# 16) Write a Query to display count of male and female in each year."
   ]
  },
  {
   "cell_type": "code",
   "execution_count": 63,
   "id": "b5b7d67d",
   "metadata": {},
   "outputs": [
    {
     "name": "stdout",
     "output_type": "stream",
     "text": [
      "+----+------+----+\n",
      "|year|Female|Male|\n",
      "+----+------+----+\n",
      "|1896|0     |380 |\n",
      "|1900|33    |1903|\n",
      "|1904|16    |1285|\n",
      "|1906|11    |1722|\n",
      "|1908|47    |3054|\n",
      "|1912|87    |3953|\n",
      "|1920|134   |4158|\n",
      "|1924|261   |5432|\n",
      "|1928|437   |5137|\n",
      "|1932|369   |2952|\n",
      "+----+------+----+\n",
      "only showing top 10 rows\n",
      "\n"
     ]
    }
   ],
   "source": [
    "query=\"\\\n",
    "select r.year as year,IFNULL(F,0) as Female,M as Male \\\n",
    "from ((select distinct year \\\n",
    "       from athlete) r \\\n",
    "   left join \\\n",
    "     (select year,count(sex) as F from athlete \\\n",
    "      where sex='F' \\\n",
    "      group by year) p \\\n",
    "   on r.year=p.year) \\\n",
    "   left join \\\n",
    "     (select year,count(sex) as M \\\n",
    "      from athlete \\\n",
    "      where sex='M' \\\n",
    "      group by year) q \\\n",
    "   on r.year=q.year \\\n",
    "order by year\"\n",
    "spark.sql(query).show(10,truncate=False)"
   ]
  },
  {
   "cell_type": "markdown",
   "id": "406d213d",
   "metadata": {},
   "source": [
    "# 17) Write a Query to display all years in which olympics held."
   ]
  },
  {
   "cell_type": "code",
   "execution_count": 57,
   "id": "51a9c564",
   "metadata": {},
   "outputs": [
    {
     "name": "stdout",
     "output_type": "stream",
     "text": [
      "+----+\n",
      "|year|\n",
      "+----+\n",
      "|1896|\n",
      "|1900|\n",
      "|1904|\n",
      "|1906|\n",
      "|1908|\n",
      "|1912|\n",
      "|1920|\n",
      "|1924|\n",
      "|1928|\n",
      "|1932|\n",
      "+----+\n",
      "only showing top 10 rows\n",
      "\n"
     ]
    }
   ],
   "source": [
    "query=\"\\\n",
    "SELECT DISTINCT year \\\n",
    "FROM athlete \\\n",
    "ORDER BY  year\"\n",
    "spark.sql(query).show(10,truncate=False)"
   ]
  },
  {
   "cell_type": "markdown",
   "id": "353d3759",
   "metadata": {},
   "source": [
    "# 18) Write a Query to display all the Countries participated in olympics from 1896-2006."
   ]
  },
  {
   "cell_type": "code",
   "execution_count": 55,
   "id": "8d4fde6a",
   "metadata": {},
   "outputs": [
    {
     "name": "stdout",
     "output_type": "stream",
     "text": [
      "+--------------+\n",
      "|Country       |\n",
      "+--------------+\n",
      "|Afghanistan   |\n",
      "|Albania       |\n",
      "|Algeria       |\n",
      "|American Samoa|\n",
      "|Andorra       |\n",
      "|Angola        |\n",
      "|Antigua       |\n",
      "|Argentina     |\n",
      "|Armenia       |\n",
      "|Aruba         |\n",
      "+--------------+\n",
      "only showing top 10 rows\n",
      "\n"
     ]
    }
   ],
   "source": [
    "query=\"\\\n",
    "SELECT DISTINCT region AS Country \\\n",
    "FROM noc \\\n",
    "ORDER BY  Country\"\n",
    "spark.sql(query).show(10,truncate=False)"
   ]
  },
  {
   "cell_type": "markdown",
   "id": "85b93c8c",
   "metadata": {},
   "source": [
    "# 19) Write a Query to find in which year India got most medals."
   ]
  },
  {
   "cell_type": "code",
   "execution_count": 56,
   "id": "02a3ac50",
   "metadata": {},
   "outputs": [
    {
     "name": "stdout",
     "output_type": "stream",
     "text": [
      "+----+------------+\n",
      "|year|Total_Medals|\n",
      "+----+------------+\n",
      "|1948|20          |\n",
      "|1936|19          |\n",
      "|1956|17          |\n",
      "|1968|16          |\n",
      "|1980|16          |\n",
      "|1952|15          |\n",
      "|1932|15          |\n",
      "|1964|15          |\n",
      "|1972|14          |\n",
      "|1928|14          |\n",
      "+----+------------+\n",
      "only showing top 10 rows\n",
      "\n"
     ]
    }
   ],
   "source": [
    "query=\"\\\n",
    "SELECT year, count(medal) AS Total_Medals \\\n",
    "FROM athlete \\\n",
    "WHERE medal IN ('Gold','Silver','Bronze') AND Team='India' \\\n",
    "GROUP BY  year \\\n",
    "ORDER BY  Total_Medals DESC\" \n",
    "spark.sql(query).show(10,truncate=False)"
   ]
  },
  {
   "cell_type": "markdown",
   "id": "a10cd080",
   "metadata": {},
   "source": [
    "# 20) Write a Query to find Total_Medals,Gold Medals,Silver Medals and Bronze of Top 100 olympians with their country Name and sport Name."
   ]
  },
  {
   "cell_type": "code",
   "execution_count": 53,
   "id": "1592f5ed",
   "metadata": {},
   "outputs": [
    {
     "name": "stdout",
     "output_type": "stream",
     "text": [
      "+----+---------------------------------------------------+---+------------+----+------+------+----------+-------------+\n",
      "|Rank|Name                                               |Sex|Total_Medals|Gold|Silver|Bronze|Sport     |Country      |\n",
      "+----+---------------------------------------------------+---+------------+----+------+------+----------+-------------+\n",
      "|1   |Michael Fred Phelps- II                            |M  |28          |23  |3     |2     |Swimming  |United States|\n",
      "|2   |Larysa Semenivna Latynina (Diriy-)                 |F  |18          |9   |5     |4     |Gymnastics|Soviet Union |\n",
      "|3   |Nikolay Yefimovich Andrianov                       |M  |15          |7   |5     |3     |Gymnastics|Soviet Union |\n",
      "|4   |Ole Einar Bjrndalen                                |M  |13          |8   |4     |1     |Biathlon  |Norway       |\n",
      "|5   |Borys Anfiyanovych Shakhlin                        |M  |13          |7   |4     |2     |Gymnastics|Soviet Union |\n",
      "|6   |Edoardo Mangiarotti                                |M  |13          |6   |5     |2     |Fencing   |Italy        |\n",
      "|7   |Takashi Ono                                        |M  |13          |5   |4     |4     |Gymnastics|Japan        |\n",
      "|8   |Paavo Johannes Nurmi                               |M  |12          |9   |3     |0     |Athletics |Finland      |\n",
      "|9   |Sawao Kato                                         |M  |12          |8   |3     |1     |Gymnastics|Japan        |\n",
      "|10  |\"Jennifer Elisabeth \"\"Jenny\"\" Thompson (-Cumpelik)\"|F  |12          |8   |3     |1     |Swimming  |United States|\n",
      "+----+---------------------------------------------------+---+------------+----+------+------+----------+-------------+\n",
      "only showing top 10 rows\n",
      "\n"
     ]
    }
   ],
   "source": [
    "query=\"\\\n",
    "SELECT ROW_NUMBER() OVER(order by Total desc,Gold desc,Silver desc,Bronze desc) AS Rank, \\\n",
    "        Name, \\\n",
    "        Sex, \\\n",
    "        Total AS Total_Medals, \\\n",
    "        IFNULL(Gold,0) AS Gold, \\\n",
    "        IFNULL(Silver,0) AS Silver, \\\n",
    "        IFNULL(Bronze,0) AS Bronze, \\\n",
    "        Sport, \\\n",
    "        Team AS Country \\\n",
    "FROM (((SELECT Sport,Sex,Name,Team,ID AS fid,count(Medal) AS Total \\\n",
    "        FROM athlete \\\n",
    "        WHERE Medal='Gold'or Medal='Silver' OR Medal='Bronze' \\\n",
    "        GROUP BY ID,Name,Sport,Sex,Team) a0 \\\n",
    "     LEFT JOIN \\\n",
    "        (SELECT ID,count(Medal) AS Gold \\\n",
    "        FROM athlete \\\n",
    "        WHERE Medal='Gold' \\\n",
    "        GROUP BY  ID) a1 \\\n",
    "     ON fid=a1.ID) p \\\n",
    "     LEFT JOIN \\\n",
    "        (SELECT ID,count(Medal) AS Silver \\\n",
    "        FROM athlete \\\n",
    "        WHERE Medal='Silver' \\\n",
    "        GROUP BY  ID) a2 \\\n",
    "     ON fid=a2.ID) q \\\n",
    "     LEFT JOIN \\\n",
    "        (SELECT ID,count(Medal) AS Bronze \\\n",
    "        FROM athlete \\\n",
    "        WHERE Medal='Bronze' \\\n",
    "        GROUP BY  ID) a3 \\\n",
    "     ON fid=a3.ID \\\n",
    "ORDER BY  Rank\"\n",
    "spark.sql(query).show(10,truncate=False)"
   ]
  },
  {
   "cell_type": "markdown",
   "id": "630658db",
   "metadata": {},
   "source": [
    "# 21) Write a Query to find Total_Medals,Gold Medals,Silver Medals,Bronze Medals of every country in the year 1912 with their rank."
   ]
  },
  {
   "cell_type": "code",
   "execution_count": 54,
   "id": "da216276",
   "metadata": {},
   "outputs": [
    {
     "name": "stdout",
     "output_type": "stream",
     "text": [
      "+----+-------------+------------+----+------+------+\n",
      "|Rank|Country      |Total_Medals|Gold|Silver|Bronze|\n",
      "+----+-------------+------------+----+------+------+\n",
      "|1   |Sweden       |153         |95  |38    |20    |\n",
      "|2   |Great Britain|128         |36  |35    |57    |\n",
      "|3   |United States|107         |46  |25    |36    |\n",
      "|4   |Denmark      |74          |0   |46    |28    |\n",
      "|5   |Norway       |55          |25  |6     |24    |\n",
      "|6   |Finland      |52          |9   |33    |10    |\n",
      "|7   |Germany      |39          |6   |19    |14    |\n",
      "|8   |Hungary      |30          |10  |17    |3     |\n",
      "|9   |Netherlands  |26          |0   |0     |26    |\n",
      "|10  |Italy        |25          |22  |1     |2     |\n",
      "+----+-------------+------------+----+------+------+\n",
      "only showing top 10 rows\n",
      "\n"
     ]
    }
   ],
   "source": [
    "query=\"\\\n",
    "SELECT ROW_NUMBER() OVER(order by Total desc,Gold desc,Silver desc,Bronze desc) AS Rank, \\\n",
    "       Country, \\\n",
    "       Total AS Total_Medals, \\\n",
    "       IFNULL(Gold,0) AS Gold, \\\n",
    "       IFNULL(Silver,0) AS Silver, \\\n",
    "       IFNULL(Bronze,0) AS Bronze \\\n",
    "FROM (((SELECT Team AS Country,count(Medal) AS Total \\\n",
    "        FROM athlete \\\n",
    "        WHERE Medal IN ('Gold','Silver','Bronze') AND year=1912 \\\n",
    "        GROUP BY  Team) a0 \\\n",
    "     LEFT JOIN \\\n",
    "        (SELECT Team,count(Medal) AS Gold \\\n",
    "         FROM athlete \\\n",
    "         WHERE Medal='Gold' AND year=1912 \\\n",
    "         GROUP BY  Team) a1 \\\n",
    "     ON Country=a1.Team) p \\\n",
    "     LEFT JOIN    \\\n",
    "         (SELECT Team,count(Medal) AS Silver \\\n",
    "          FROM athlete \\\n",
    "          WHERE Medal='Silver' AND year=1912 \\\n",
    "          GROUP BY  Team) a2 \\\n",
    "     ON Country=a2.Team) q \\\n",
    "     LEFT JOIN \\\n",
    "          (SELECT Team,count(Medal) AS Bronze \\\n",
    "           FROM athlete \\\n",
    "           WHERE Medal='Bronze' AND year=1912 \\\n",
    "           GROUP BY  Team) a3 \\\n",
    "      ON Country=a3.Team  \\\n",
    "ORDER BY  Rank\"\n",
    "spark.sql(query).show(10,truncate=False)"
   ]
  },
  {
   "cell_type": "code",
   "execution_count": null,
   "id": "f41294fd",
   "metadata": {},
   "outputs": [],
   "source": []
  },
  {
   "cell_type": "code",
   "execution_count": null,
   "id": "30e44ddd",
   "metadata": {},
   "outputs": [],
   "source": []
  }
 ],
 "metadata": {
  "kernelspec": {
   "display_name": "Python 3",
   "language": "python",
   "name": "python3"
  },
  "language_info": {
   "codemirror_mode": {
    "name": "ipython",
    "version": 3
   },
   "file_extension": ".py",
   "mimetype": "text/x-python",
   "name": "python",
   "nbconvert_exporter": "python",
   "pygments_lexer": "ipython3",
   "version": "3.8.8"
  }
 },
 "nbformat": 4,
 "nbformat_minor": 5
}
